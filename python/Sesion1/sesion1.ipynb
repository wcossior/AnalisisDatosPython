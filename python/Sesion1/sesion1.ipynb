{
 "cells": [
  {
   "cell_type": "code",
   "execution_count": 1,
   "id": "c7deb4f1-e76b-466d-a74b-479e069ad897",
   "metadata": {},
   "outputs": [
    {
     "name": "stdout",
     "output_type": "stream",
     "text": [
      "HOLA MUNDO\n"
     ]
    }
   ],
   "source": [
    "# Identacion\n",
    "print(\"HOLA MUNDO\")"
   ]
  },
  {
   "cell_type": "code",
   "execution_count": 2,
   "id": "3b1b2ad6-076a-4713-af8e-58d548c8fded",
   "metadata": {},
   "outputs": [
    {
     "name": "stdout",
     "output_type": "stream",
     "text": [
      "Verdadero\n"
     ]
    }
   ],
   "source": [
    "variable = 5\n",
    "if variable == 5:\n",
    "    print(\"Verdadero\")\n",
    "else:\n",
    "    print(\"False\")"
   ]
  },
  {
   "cell_type": "code",
   "execution_count": 3,
   "id": "9c4e6a27-fb76-4814-b745-2f37a84c90be",
   "metadata": {},
   "outputs": [],
   "source": [
    "#Variables\n",
    "a = 4\n",
    "b = \"Datapath\"\n",
    "c = 2.5"
   ]
  },
  {
   "cell_type": "code",
   "execution_count": 4,
   "id": "6c601273-94c1-42ae-a03e-d6d2d07028a5",
   "metadata": {},
   "outputs": [
    {
     "name": "stdout",
     "output_type": "stream",
     "text": [
      "<class 'int'>\n"
     ]
    }
   ],
   "source": [
    "print(type(a))"
   ]
  },
  {
   "cell_type": "code",
   "execution_count": 5,
   "id": "3bfac647-2a45-4444-b78c-7fd9e7b3e563",
   "metadata": {},
   "outputs": [
    {
     "name": "stdout",
     "output_type": "stream",
     "text": [
      "<class 'str'>\n"
     ]
    }
   ],
   "source": [
    "print(type(b))"
   ]
  },
  {
   "cell_type": "code",
   "execution_count": 6,
   "id": "c4f7e133-ba04-4281-a75d-9d258541bdaf",
   "metadata": {},
   "outputs": [
    {
     "name": "stdout",
     "output_type": "stream",
     "text": [
      "<class 'float'>\n"
     ]
    }
   ],
   "source": [
    "print(type(c))"
   ]
  },
  {
   "cell_type": "code",
   "execution_count": 7,
   "id": "e3bdbdb7-b46e-449c-bd38-2fdf89408d3e",
   "metadata": {},
   "outputs": [],
   "source": [
    "x,y,z = \"lunes\", \"martes\", \"miercoles\""
   ]
  },
  {
   "cell_type": "code",
   "execution_count": 8,
   "id": "06eee9f4-6ca7-44bf-bade-ef075e98b502",
   "metadata": {},
   "outputs": [
    {
     "name": "stdout",
     "output_type": "stream",
     "text": [
      "lunes\n"
     ]
    }
   ],
   "source": [
    "print(x)"
   ]
  },
  {
   "cell_type": "code",
   "execution_count": 9,
   "id": "af9913b4-d664-41e3-a1c5-57f5890e81e1",
   "metadata": {},
   "outputs": [
    {
     "name": "stdout",
     "output_type": "stream",
     "text": [
      "martes\n"
     ]
    }
   ],
   "source": [
    "print(y)"
   ]
  },
  {
   "cell_type": "code",
   "execution_count": 10,
   "id": "f7c4d17d-008f-4e4b-9fbc-c091105740e4",
   "metadata": {},
   "outputs": [
    {
     "name": "stdout",
     "output_type": "stream",
     "text": [
      "miercoles\n"
     ]
    }
   ],
   "source": [
    "print(z)"
   ]
  },
  {
   "cell_type": "code",
   "execution_count": 11,
   "id": "999eeea8-200c-4776-b9e5-6397d478112d",
   "metadata": {},
   "outputs": [
    {
     "name": "stdout",
     "output_type": "stream",
     "text": [
      "lunes\n"
     ]
    }
   ],
   "source": [
    "# Tipos de datos\n",
    "\n",
    "#String\n",
    "x = 'lunes'\n",
    "print(x)"
   ]
  },
  {
   "cell_type": "code",
   "execution_count": 12,
   "id": "90f6b78c-2e8f-4f12-86d2-6abd89651bd0",
   "metadata": {},
   "outputs": [
    {
     "name": "stdout",
     "output_type": "stream",
     "text": [
      "e\n"
     ]
    }
   ],
   "source": [
    "print(x[3])"
   ]
  },
  {
   "cell_type": "code",
   "execution_count": 13,
   "id": "fd7996e2-3789-4be4-9c69-ba3800d5c249",
   "metadata": {},
   "outputs": [
    {
     "name": "stdout",
     "output_type": "stream",
     "text": [
      "lun\n"
     ]
    }
   ],
   "source": [
    "print(x[0:3])"
   ]
  },
  {
   "cell_type": "code",
   "execution_count": 14,
   "id": "24114884-5400-4b82-8277-b0ddf6b7d429",
   "metadata": {},
   "outputs": [],
   "source": [
    "# Numericos\n",
    "a = 10\n",
    "b = 10.2\n",
    "c = 3.14j"
   ]
  },
  {
   "cell_type": "code",
   "execution_count": 15,
   "id": "69ad04a7-6032-4316-b00b-9d2da08dfa54",
   "metadata": {},
   "outputs": [
    {
     "name": "stdout",
     "output_type": "stream",
     "text": [
      "[1, 'lunes', [1, 2, 4], ['x']]\n"
     ]
    }
   ],
   "source": [
    "# Listas\n",
    "\n",
    "lista = []\n",
    "lista = [1, 2, 3, 4]\n",
    "\n",
    "lista = [1, \"lunes\", 23, 2.4]\n",
    "\n",
    "lista = [1, \"lunes\", [1,2,4], [\"x\"]]\n",
    "print(lista)\n"
   ]
  },
  {
   "cell_type": "code",
   "execution_count": 17,
   "id": "c52c5866-b16e-4b19-8232-249712045f88",
   "metadata": {},
   "outputs": [
    {
     "name": "stdout",
     "output_type": "stream",
     "text": [
      "2\n"
     ]
    }
   ],
   "source": [
    "print(lista[2][1])"
   ]
  },
  {
   "cell_type": "code",
   "execution_count": 21,
   "id": "1ee6f970-5fd0-42a8-8238-40564d820389",
   "metadata": {},
   "outputs": [
    {
     "name": "stdout",
     "output_type": "stream",
     "text": [
      "['c', 'd', 'e']\n"
     ]
    }
   ],
   "source": [
    "lista1 = ['a','b','c','d','e','f']\n",
    "\n",
    "print(lista1[2:5]) # si hacemos [2:4] solo nos obtiene c y d para obtener e  cambiamos a [2:5]"
   ]
  },
  {
   "cell_type": "code",
   "execution_count": 22,
   "id": "d0da2603-37a6-46db-b04c-05da36c7f6c1",
   "metadata": {},
   "outputs": [
    {
     "name": "stdout",
     "output_type": "stream",
     "text": [
      "['c', 'd', 'e', 'f']\n"
     ]
    }
   ],
   "source": [
    "print(lista1[2:])"
   ]
  },
  {
   "cell_type": "code",
   "execution_count": 23,
   "id": "49d17724-617b-47a9-ae01-ecc563d600e4",
   "metadata": {},
   "outputs": [
    {
     "name": "stdout",
     "output_type": "stream",
     "text": [
      "['lunes', 'b', 'c', 'd', 'e', 'f']\n"
     ]
    }
   ],
   "source": [
    "lista1[0] = x\n",
    "print(lista1)"
   ]
  },
  {
   "cell_type": "code",
   "execution_count": 24,
   "id": "f35b036f-f685-42e7-bdf5-3a1d6f3ef768",
   "metadata": {},
   "outputs": [
    {
     "name": "stdout",
     "output_type": "stream",
     "text": [
      "['lunes', 'y', 'z', 'd', 'e', 'f']\n"
     ]
    }
   ],
   "source": [
    "lista1[1:3] = ['y','z']\n",
    "print(lista1)"
   ]
  },
  {
   "cell_type": "code",
   "execution_count": 25,
   "id": "a869bad9-dfa7-4798-9b33-530e97b2e100",
   "metadata": {},
   "outputs": [
    {
     "name": "stdout",
     "output_type": "stream",
     "text": [
      "['lunes', 'y', 'z', 'd', 'e', 'f', 'Martes']\n"
     ]
    }
   ],
   "source": [
    "lista1.append(\"Martes\")\n",
    "print(lista1)"
   ]
  },
  {
   "cell_type": "code",
   "execution_count": 29,
   "id": "a180a63e-978c-4156-93e6-59b8b33b890a",
   "metadata": {},
   "outputs": [
    {
     "name": "stdout",
     "output_type": "stream",
     "text": [
      "['lunes', 'y', 'z', 'd', 'e', 'f', 'Martes', 9, 1, 3, 9, 1, 3]\n"
     ]
    }
   ],
   "source": [
    "lista1.extend([9,1,3])\n",
    "print(lista1)"
   ]
  },
  {
   "cell_type": "code",
   "execution_count": 30,
   "id": "6034ca78-3ffd-4e75-86a2-cfb9633fe7af",
   "metadata": {},
   "outputs": [
    {
     "name": "stdout",
     "output_type": "stream",
     "text": [
      "lunes\n",
      "y\n",
      "z\n",
      "d\n",
      "e\n",
      "f\n",
      "Martes\n",
      "9\n",
      "1\n",
      "3\n",
      "9\n",
      "1\n",
      "3\n"
     ]
    }
   ],
   "source": [
    "for var in lista1:\n",
    "    print(var)"
   ]
  },
  {
   "cell_type": "code",
   "execution_count": 31,
   "id": "146da57c-2498-4413-aa04-e92f1bf471b6",
   "metadata": {},
   "outputs": [
    {
     "name": "stdout",
     "output_type": "stream",
     "text": [
      "(1, 1.2, ('Lunes', 'Martes'))\n"
     ]
    }
   ],
   "source": [
    "# Tuplas\n",
    "tupla = ()\n",
    "tupla = (1,2,3)\n",
    "tuplamixta = (1,2,3,'Lunes')\n",
    "tuplaAnidada = (1,1.2,('Lunes','Martes'))\n",
    "\n",
    "print(tuplaAnidada)"
   ]
  },
  {
   "cell_type": "code",
   "execution_count": 32,
   "id": "f5f4fcfe-ab29-4197-a6e3-ad7fca07c49c",
   "metadata": {},
   "outputs": [
    {
     "name": "stdout",
     "output_type": "stream",
     "text": [
      "<class 'str'>\n"
     ]
    }
   ],
   "source": [
    "tupla = ('Lunes')\n",
    "print(type(tupla))"
   ]
  },
  {
   "cell_type": "code",
   "execution_count": 33,
   "id": "be75ca96-8e4b-4267-baeb-e96b6b6fa6a7",
   "metadata": {},
   "outputs": [
    {
     "name": "stdout",
     "output_type": "stream",
     "text": [
      "<class 'tuple'>\n"
     ]
    }
   ],
   "source": [
    "tupla = ('Lunes',)\n",
    "print(type(tupla))"
   ]
  },
  {
   "cell_type": "code",
   "execution_count": 36,
   "id": "22cecbad-93cb-4115-b3cf-b28317be67e7",
   "metadata": {},
   "outputs": [
    {
     "name": "stdout",
     "output_type": "stream",
     "text": [
      "<class 'tuple'>\n"
     ]
    }
   ],
   "source": [
    "# Parentesis opcional\n",
    "tupla = 'Lunes', 'Martes' \n",
    "print(type(tupla))"
   ]
  },
  {
   "cell_type": "code",
   "execution_count": 37,
   "id": "02f47fc1-ec4d-4da7-990b-a0cba8d06a46",
   "metadata": {},
   "outputs": [
    {
     "name": "stdout",
     "output_type": "stream",
     "text": [
      "a\n"
     ]
    }
   ],
   "source": [
    "tupla = ('a','b','c','d','e','f')\n",
    "print(tupla[0])"
   ]
  },
  {
   "cell_type": "code",
   "execution_count": 38,
   "id": "48bb0f01-124c-4f2b-bc4e-941797037c44",
   "metadata": {},
   "outputs": [
    {
     "name": "stdout",
     "output_type": "stream",
     "text": [
      "d\n"
     ]
    }
   ],
   "source": [
    "tupla = ('a','b', ('c','d','e','f'))\n",
    "print(tupla[2][1])"
   ]
  },
  {
   "cell_type": "code",
   "execution_count": 39,
   "id": "480e32fd-802f-456a-aa67-a5a3e2814c37",
   "metadata": {},
   "outputs": [
    {
     "name": "stdout",
     "output_type": "stream",
     "text": [
      "('b', ('c', 'd', 'e', 'f'))\n"
     ]
    }
   ],
   "source": [
    "print(tupla[1:3])"
   ]
  },
  {
   "cell_type": "code",
   "execution_count": 42,
   "id": "8ee15bcb-8503-40e9-9a27-a99f10b3d2e0",
   "metadata": {},
   "outputs": [
    {
     "name": "stdout",
     "output_type": "stream",
     "text": [
      "a\n",
      "b\n",
      "('c', 'd', 'e', 'f')\n"
     ]
    }
   ],
   "source": [
    "for var in tupla:\n",
    "    print(var)"
   ]
  },
  {
   "cell_type": "code",
   "execution_count": 1,
   "id": "1c4eeb28-a18e-4975-9341-b0acd2299569",
   "metadata": {},
   "outputs": [
    {
     "name": "stdout",
     "output_type": "stream",
     "text": [
      "{1: 'Lunes', 2: 'Martes', 3: 'Miercoles', 4: 'Jueves', 5: 'Viernes'}\n"
     ]
    }
   ],
   "source": [
    "diccionario = diccionario = { 1: 'Lunes', 2: 'Martes', 3: 'Miercoles', 4: 'Jueves', 5: 'Viernes'}\n",
    "print(diccionario)"
   ]
  },
  {
   "cell_type": "code",
   "execution_count": 2,
   "id": "6d60eaf8-4540-4ccc-9a81-f6808c3189e5",
   "metadata": {},
   "outputs": [
    {
     "name": "stdout",
     "output_type": "stream",
     "text": [
      "{1: 'Lunes', 'nombre': 'Juan'}\n"
     ]
    }
   ],
   "source": [
    "diccionario = { 1: 'Lunes', 'nombre': 'Juan'}\n",
    "print(diccionario)"
   ]
  },
  {
   "cell_type": "code",
   "execution_count": 3,
   "id": "d021cce9-01f0-45e0-a2eb-cbb3e699bbf4",
   "metadata": {},
   "outputs": [
    {
     "name": "stdout",
     "output_type": "stream",
     "text": [
      "{1: 'Lunes', 'nombres': ['Juan', 'Pedro']}\n"
     ]
    }
   ],
   "source": [
    "diccionario = { 1: 'Lunes', 'nombres': ['Juan', 'Pedro']}\n",
    "print(diccionario)"
   ]
  },
  {
   "cell_type": "code",
   "execution_count": 8,
   "id": "9776b199-95d0-4a28-8653-bc18699d68e8",
   "metadata": {},
   "outputs": [
    {
     "name": "stdout",
     "output_type": "stream",
     "text": [
      "Juan\n",
      "Juan\n",
      "None\n"
     ]
    }
   ],
   "source": [
    "diccionario = {'nombre': 'Juan', 'edad': 27, 'pais': 'Mexico'}\n",
    "print(diccionario['nombre'])# Si no hay la clave nombre, saldra error\n",
    "print(diccionario.get('nombre'))# Si no hay la clave nombre, no saldra error, nos saldra None\n",
    "print(diccionario.get('telefono'))# No existe telefono, sale None y nuestro codigo sigue y no es interrumpido por error"
   ]
  },
  {
   "cell_type": "code",
   "execution_count": 9,
   "id": "cb45927b-8374-4fb9-bef8-cbd21a9f8e61",
   "metadata": {},
   "outputs": [
    {
     "name": "stdout",
     "output_type": "stream",
     "text": [
      "{'nombre': 'Pedro', 'edad': 27, 'pais': 'Mexico'}\n"
     ]
    }
   ],
   "source": [
    "diccionario['nombre'] = 'Pedro'\n",
    "print(diccionario)"
   ]
  },
  {
   "cell_type": "code",
   "execution_count": 10,
   "id": "37017974-9399-47b0-ba3e-5b5d6e8ee877",
   "metadata": {},
   "outputs": [
    {
     "name": "stdout",
     "output_type": "stream",
     "text": [
      "{'nombre': 'Pedro', 'edad': 27, 'pais': 'Mexico', 'telefono': '5555555'}\n"
     ]
    }
   ],
   "source": [
    "diccionario['telefono'] = '5555555'\n",
    "print(diccionario)"
   ]
  },
  {
   "cell_type": "code",
   "execution_count": null,
   "id": "c78fee58-5154-445c-823f-612359fc42f1",
   "metadata": {},
   "outputs": [],
   "source": [
    "for item in diccionario:\n",
    "    print(diccionario[item])\n"
   ]
  },
  {
   "cell_type": "code",
   "execution_count": null,
   "id": "75835ed5-7197-4350-b38f-f98186769945",
   "metadata": {},
   "outputs": [],
   "source": [
    "#control de flujo IF ELSE WHILE FOR\n",
    "n = 0\n",
    "if n >= 0:\n",
    "    if n == 0:\n",
    "        print('El numero es igual a cero')\n",
    "    else:\n",
    "        print('El numero es positivo')\n",
    "else:\n",
    "    print('El numero es negativo')\n",
    "    \n"
   ]
  },
  {
   "cell_type": "code",
   "execution_count": 2,
   "id": "16d39ef7-55c0-40fa-9d0c-f7bc006ee692",
   "metadata": {},
   "outputs": [
    {
     "name": "stdout",
     "output_type": "stream",
     "text": [
      "1\n",
      "2\n",
      "3\n",
      "4\n",
      "5\n",
      "6\n"
     ]
    }
   ],
   "source": [
    "numeros = [1, 2, 3, 4, 5, 6]\n",
    "for num in numeros:\n",
    "    print(num)"
   ]
  },
  {
   "cell_type": "code",
   "execution_count": 3,
   "id": "0de05996-5579-4ef6-a98c-7d0932b90ef9",
   "metadata": {},
   "outputs": [
    {
     "name": "stdout",
     "output_type": "stream",
     "text": [
      "21\n"
     ]
    }
   ],
   "source": [
    "sumTotal = 0\n",
    "for num in numeros:\n",
    "    sumTotal = sumTotal + num\n",
    "print(sumTotal)"
   ]
  },
  {
   "cell_type": "code",
   "execution_count": 5,
   "id": "9bda7e9c-5ff3-4aa0-8cf0-e9e0007ddb83",
   "metadata": {},
   "outputs": [
    {
     "name": "stdout",
     "output_type": "stream",
     "text": [
      "15\n"
     ]
    }
   ],
   "source": [
    "cont = 0\n",
    "sumaTotal = 0\n",
    "numeros = [1, 2, 3, 4, 5]\n",
    "while cont < 5:\n",
    "    numero = numeros[cont]\n",
    "    sumaTotal = sumaTotal + numero\n",
    "    cont = cont + 1\n",
    "print(sumaTotal)"
   ]
  },
  {
   "cell_type": "code",
   "execution_count": 6,
   "id": "739466d0-736e-48fe-adff-edaa101fe0a4",
   "metadata": {},
   "outputs": [],
   "source": [
    "# funciones\n",
    "def mi_funcion():\n",
    "    pass"
   ]
  },
  {
   "cell_type": "code",
   "execution_count": 8,
   "id": "bf81f87d-c620-4147-a0ca-3116882ee92d",
   "metadata": {},
   "outputs": [
    {
     "data": {
      "text/plain": [
       "7"
      ]
     },
     "execution_count": 8,
     "metadata": {},
     "output_type": "execute_result"
    }
   ],
   "source": [
    "def suma(a,b):\n",
    "    return a+b;\n",
    "suma(2,5)"
   ]
  },
  {
   "cell_type": "code",
   "execution_count": null,
   "id": "dc99d3bd-d3ed-4dfd-9f5a-b5ca024c93ec",
   "metadata": {},
   "outputs": [],
   "source": []
  }
 ],
 "metadata": {
  "kernelspec": {
   "display_name": "Python 3 (ipykernel)",
   "language": "python",
   "name": "python3"
  },
  "language_info": {
   "codemirror_mode": {
    "name": "ipython",
    "version": 3
   },
   "file_extension": ".py",
   "mimetype": "text/x-python",
   "name": "python",
   "nbconvert_exporter": "python",
   "pygments_lexer": "ipython3",
   "version": "3.9.19"
  }
 },
 "nbformat": 4,
 "nbformat_minor": 5
}
